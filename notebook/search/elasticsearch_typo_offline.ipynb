{
 "cells": [
  {
   "cell_type": "code",
   "execution_count": 1,
   "metadata": {},
   "outputs": [],
   "source": [
    "from elasticsearch import Elasticsearch, helpers\n",
    "import pandas as pd\n",
    "import logging"
   ]
  },
  {
   "cell_type": "code",
   "execution_count": 2,
   "metadata": {},
   "outputs": [],
   "source": [
    "class Search():\n",
    "    def __init__(self, index_name):\n",
    "        super().__init__()\n",
    "        self.logger = logging.getLogger(__name__)\n",
    "        self.__es = Elasticsearch([{'scheme': 'http', 'host':'localhost','port':9200}], basic_auth=('admin', 'es_pw'))\n",
    "        \n",
    "        self.__index_name = index_name\n",
    "        if self.__es.indices.exists(index=self.__index_name):\n",
    "            self.logger.debug('Deleting existing index ' + self.__index_name)\n",
    "            self.__es.indices.delete(self.__index_name)\n",
    "        \n",
    "        self.__es.indices.create(index=self.__index_name)\n",
    "        self.__es.cluster.health(wait_for_status='yellow')\n",
    "    \n",
    "    def index(self, type_name, id_value, content):\n",
    "        self.logger.debug('index %s/%s : %s', type_name, id_value, content)\n",
    "        self.__es.index(index=self.__index_name, doc_type=type_name, id=id_value, body=content)\n",
    "    \n",
    "    def map(self, type_name, mapping):\n",
    "        self.logger.debug('map %s', type_name)\n",
    "        self.__es.indices.put_mapping(index=self.__index_name, doc_type=type_name, body={type_name: mapping})\n",
    "    \n",
    "    def search(self, type_name, query={'match_all': {}}):\n",
    "        self.logger.debug('search %s : %s', type_name, query)\n",
    "        return self.__es.search(index=self.__index_name, doc_type=type_name, body={'query': query})\n",
    "    \n",
    "    def get(self, type_name, id_value):\n",
    "        self.logger.debug('get %s/%s', type_name, id_value)\n",
    "        document = self.__es.get(index=self.__index_name, doc_type=type_name, id=id_value)\n",
    "        self.logger.debug('got document ' + document)\n",
    "        return document\n",
    "    \n",
    "    def delete(self, type_name, id_value):\n",
    "        self.logger.debug('delete %s/%s', type_name, id_value)\n",
    "        self.__es.delete(index=self.__index_name, doc_type=type_name, id=id_value)\n",
    "\n",
    "    def optimize(self):\n",
    "        \"\"\" \n",
    "        forcemerge allows removal of deleted documents and reducing the number of segments\n",
    "        (documents are marked as tombstone [like cassandra] but not purged from the segment's \n",
    "        index for performance reasons)\n",
    "        \"\"\"\n",
    "        self.logger.debug('optimize')\n",
    "        self.__es.forcemerge(self.__index_name)\n",
    "\n",
    "    @property\n",
    "    def es(self):\n",
    "        return self.__es\n",
    "\n",
    "    def __eq__(self, other):\n",
    "        return self.__es == other.__es\n",
    "\n",
    "    def __str__(self):\n",
    "        return self.__es.__str__()\n",
    "\n",
    "    def __hash__(self):\n",
    "        return self.__es.__hash__()"
   ]
  },
  {
   "cell_type": "code",
   "execution_count": 3,
   "metadata": {},
   "outputs": [
    {
     "name": "stderr",
     "output_type": "stream",
     "text": [
      "C:\\Users\\PAC\\Anaconda3\\lib\\site-packages\\ipykernel_launcher.py:8: ElasticsearchWarning: Elasticsearch built-in security features are not enabled. Without authentication, your cluster could be accessible to anyone. See https://www.elastic.co/guide/en/elasticsearch/reference/7.16/security-minimal-setup.html to enable security.\n",
      "  \n",
      "C:\\Users\\PAC\\Anaconda3\\lib\\site-packages\\ipykernel_launcher.py:12: ElasticsearchWarning: Elasticsearch built-in security features are not enabled. Without authentication, your cluster could be accessible to anyone. See https://www.elastic.co/guide/en/elasticsearch/reference/7.16/security-minimal-setup.html to enable security.\n",
      "  if sys.path[0] == '':\n",
      "C:\\Users\\PAC\\Anaconda3\\lib\\site-packages\\ipykernel_launcher.py:13: ElasticsearchWarning: Elasticsearch built-in security features are not enabled. Without authentication, your cluster could be accessible to anyone. See https://www.elastic.co/guide/en/elasticsearch/reference/7.16/security-minimal-setup.html to enable security.\n",
      "  del sys.path[0]\n"
     ]
    }
   ],
   "source": [
    "es = Search(index_name='typo_check')"
   ]
  },
  {
   "cell_type": "code",
   "execution_count": 4,
   "metadata": {},
   "outputs": [],
   "source": [
    "# doc = [{'_id': w} for w in word_db]\n",
    "# helpers.bulk(es, doc, index='word_typo',doc_type='_doc', request_timeout=200)"
   ]
  },
  {
   "cell_type": "code",
   "execution_count": null,
   "metadata": {},
   "outputs": [],
   "source": []
  }
 ],
 "metadata": {
  "kernelspec": {
   "display_name": "Python 3",
   "language": "python",
   "name": "python3"
  },
  "language_info": {
   "codemirror_mode": {
    "name": "ipython",
    "version": 3
   },
   "file_extension": ".py",
   "mimetype": "text/x-python",
   "name": "python",
   "nbconvert_exporter": "python",
   "pygments_lexer": "ipython3",
   "version": "3.7.4"
  }
 },
 "nbformat": 4,
 "nbformat_minor": 2
}
