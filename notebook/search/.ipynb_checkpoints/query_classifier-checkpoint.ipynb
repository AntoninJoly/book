{
 "cells": [
  {
   "cell_type": "code",
   "execution_count": 7,
   "metadata": {},
   "outputs": [],
   "source": [
    "import warnings\n",
    "warnings.filterwarnings('ignore')\n",
    "import pandas as pd\n",
    "import os\n",
    "import sys\n",
    "import numpy as np\n",
    "from tqdm import tqdm\n",
    "import fasttext\n",
    "from gensim.utils import simple_preprocess\n",
    "import matplotlib.pyplot as plt\n",
    "import csv\n",
    "from sklearn.model_selection import train_test_split\n",
    "\n",
    "data_dir = '../../data/recommendation'"
   ]
  },
  {
   "cell_type": "code",
   "execution_count": 8,
   "metadata": {},
   "outputs": [],
   "source": [
    "# https://archive.org/details/texts?query=0195153448"
   ]
  },
  {
   "cell_type": "code",
   "execution_count": 9,
   "metadata": {},
   "outputs": [],
   "source": [
    "genre = ['adolescence','adult','aeroplanes','amish','animals','anthologies','art-and-photography',\n",
    "         'artificial-intelligence','aviation','biblical','biography-memoir','bird-watching','canon',\n",
    "         'christian','colouring-books','comics-manga','conservation','dark','death','diary','disability',\n",
    "         'dyscalculia','emergency-services','feminism','femme-femme','fiction','football','freight',\n",
    "         'futurism','futuristic','gender','gender-and-sexuality','gettysburg-campaign','graphic-novels-comics',\n",
    "         'graphic-novels-comics-manga','graphic-novels-manga','history-and-politics','holiday','hugo-awards',\n",
    "         'infant-mortality','inspirational','jewellery','lapidary','lgbt','live-action-roleplaying','loves',\n",
    "         'mary-shelley','medical','moroccan','museology','native-americans','new-york','non-fiction','novella',\n",
    "         'occult','paranormal-urban-fantasy','pediatrics','percy-bysshe-shelley','planetary-science','poetry',\n",
    "         'polyamory','pornography','prayer','preservation','productivity','race','relationships','roman',\n",
    "         'romantic','satanism','science-fiction-fantasy','science-nature','sequential-art','sex-and-erotica',\n",
    "         'sexuality','singularity','soccer','social','space','spirituality','surreal','teaching','textbooks',\n",
    "         'the-americas','the-united-states-of-america','transport','tsars','unfinished','united-states','urban',\n",
    "         'war','wildlife','witchcraft','women-and-gender-studies','womens','wwii-related-fiction']"
   ]
  },
  {
   "cell_type": "markdown",
   "metadata": {},
   "source": [
    "# Loading data"
   ]
  },
  {
   "cell_type": "code",
   "execution_count": 10,
   "metadata": {},
   "outputs": [
    {
     "name": "stdout",
     "output_type": "stream",
     "text": [
      "<class 'pandas.core.frame.DataFrame'>\n",
      "Int64Index: 271354 entries, 0 to 271359\n",
      "Data columns (total 8 columns):\n",
      " #   Column               Non-Null Count   Dtype \n",
      "---  ------               --------------   ----- \n",
      " 0   ISBN                 271354 non-null  object\n",
      " 1   Book-Title           271354 non-null  object\n",
      " 2   Book-Author          271354 non-null  object\n",
      " 3   Year-Of-Publication  271354 non-null  object\n",
      " 4   Publisher            271354 non-null  object\n",
      " 5   Image-URL-S          271354 non-null  object\n",
      " 6   Image-URL-M          271354 non-null  object\n",
      " 7   Image-URL-L          271354 non-null  object\n",
      "dtypes: object(8)\n",
      "memory usage: 18.6+ MB\n"
     ]
    },
    {
     "data": {
      "text/html": [
       "<div>\n",
       "<style scoped>\n",
       "    .dataframe tbody tr th:only-of-type {\n",
       "        vertical-align: middle;\n",
       "    }\n",
       "\n",
       "    .dataframe tbody tr th {\n",
       "        vertical-align: top;\n",
       "    }\n",
       "\n",
       "    .dataframe thead th {\n",
       "        text-align: right;\n",
       "    }\n",
       "</style>\n",
       "<table border=\"1\" class=\"dataframe\">\n",
       "  <thead>\n",
       "    <tr style=\"text-align: right;\">\n",
       "      <th></th>\n",
       "      <th>ISBN</th>\n",
       "      <th>Book-Title</th>\n",
       "      <th>Book-Author</th>\n",
       "      <th>Year-Of-Publication</th>\n",
       "      <th>Publisher</th>\n",
       "      <th>Image-URL-S</th>\n",
       "      <th>Image-URL-M</th>\n",
       "      <th>Image-URL-L</th>\n",
       "    </tr>\n",
       "  </thead>\n",
       "  <tbody>\n",
       "    <tr>\n",
       "      <th>0</th>\n",
       "      <td>0195153448</td>\n",
       "      <td>Classical Mythology</td>\n",
       "      <td>Mark P. O. Morford</td>\n",
       "      <td>2002</td>\n",
       "      <td>Oxford University Press</td>\n",
       "      <td>http://images.amazon.com/images/P/0195153448.0...</td>\n",
       "      <td>http://images.amazon.com/images/P/0195153448.0...</td>\n",
       "      <td>http://images.amazon.com/images/P/0195153448.0...</td>\n",
       "    </tr>\n",
       "    <tr>\n",
       "      <th>1</th>\n",
       "      <td>0002005018</td>\n",
       "      <td>Clara Callan</td>\n",
       "      <td>Richard Bruce Wright</td>\n",
       "      <td>2001</td>\n",
       "      <td>HarperFlamingo Canada</td>\n",
       "      <td>http://images.amazon.com/images/P/0002005018.0...</td>\n",
       "      <td>http://images.amazon.com/images/P/0002005018.0...</td>\n",
       "      <td>http://images.amazon.com/images/P/0002005018.0...</td>\n",
       "    </tr>\n",
       "    <tr>\n",
       "      <th>2</th>\n",
       "      <td>0060973129</td>\n",
       "      <td>Decision in Normandy</td>\n",
       "      <td>Carlo D'Este</td>\n",
       "      <td>1991</td>\n",
       "      <td>HarperPerennial</td>\n",
       "      <td>http://images.amazon.com/images/P/0060973129.0...</td>\n",
       "      <td>http://images.amazon.com/images/P/0060973129.0...</td>\n",
       "      <td>http://images.amazon.com/images/P/0060973129.0...</td>\n",
       "    </tr>\n",
       "    <tr>\n",
       "      <th>3</th>\n",
       "      <td>0374157065</td>\n",
       "      <td>Flu: The Story of the Great Influenza Pandemic...</td>\n",
       "      <td>Gina Bari Kolata</td>\n",
       "      <td>1999</td>\n",
       "      <td>Farrar Straus Giroux</td>\n",
       "      <td>http://images.amazon.com/images/P/0374157065.0...</td>\n",
       "      <td>http://images.amazon.com/images/P/0374157065.0...</td>\n",
       "      <td>http://images.amazon.com/images/P/0374157065.0...</td>\n",
       "    </tr>\n",
       "    <tr>\n",
       "      <th>4</th>\n",
       "      <td>0393045218</td>\n",
       "      <td>The Mummies of Urumchi</td>\n",
       "      <td>E. J. W. Barber</td>\n",
       "      <td>1999</td>\n",
       "      <td>W. W. Norton &amp;amp; Company</td>\n",
       "      <td>http://images.amazon.com/images/P/0393045218.0...</td>\n",
       "      <td>http://images.amazon.com/images/P/0393045218.0...</td>\n",
       "      <td>http://images.amazon.com/images/P/0393045218.0...</td>\n",
       "    </tr>\n",
       "  </tbody>\n",
       "</table>\n",
       "</div>"
      ],
      "text/plain": [
       "         ISBN                                         Book-Title  \\\n",
       "0  0195153448                                Classical Mythology   \n",
       "1  0002005018                                       Clara Callan   \n",
       "2  0060973129                               Decision in Normandy   \n",
       "3  0374157065  Flu: The Story of the Great Influenza Pandemic...   \n",
       "4  0393045218                             The Mummies of Urumchi   \n",
       "\n",
       "            Book-Author Year-Of-Publication                   Publisher  \\\n",
       "0    Mark P. O. Morford                2002     Oxford University Press   \n",
       "1  Richard Bruce Wright                2001       HarperFlamingo Canada   \n",
       "2          Carlo D'Este                1991             HarperPerennial   \n",
       "3      Gina Bari Kolata                1999        Farrar Straus Giroux   \n",
       "4       E. J. W. Barber                1999  W. W. Norton &amp; Company   \n",
       "\n",
       "                                         Image-URL-S  \\\n",
       "0  http://images.amazon.com/images/P/0195153448.0...   \n",
       "1  http://images.amazon.com/images/P/0002005018.0...   \n",
       "2  http://images.amazon.com/images/P/0060973129.0...   \n",
       "3  http://images.amazon.com/images/P/0374157065.0...   \n",
       "4  http://images.amazon.com/images/P/0393045218.0...   \n",
       "\n",
       "                                         Image-URL-M  \\\n",
       "0  http://images.amazon.com/images/P/0195153448.0...   \n",
       "1  http://images.amazon.com/images/P/0002005018.0...   \n",
       "2  http://images.amazon.com/images/P/0060973129.0...   \n",
       "3  http://images.amazon.com/images/P/0374157065.0...   \n",
       "4  http://images.amazon.com/images/P/0393045218.0...   \n",
       "\n",
       "                                         Image-URL-L  \n",
       "0  http://images.amazon.com/images/P/0195153448.0...  \n",
       "1  http://images.amazon.com/images/P/0002005018.0...  \n",
       "2  http://images.amazon.com/images/P/0060973129.0...  \n",
       "3  http://images.amazon.com/images/P/0374157065.0...  \n",
       "4  http://images.amazon.com/images/P/0393045218.0...  "
      ]
     },
     "execution_count": 10,
     "metadata": {},
     "output_type": "execute_result"
    }
   ],
   "source": [
    "books = pd.read_csv(os.path.join(data_dir, 'Books.csv')).dropna()\n",
    "\n",
    "books.info()\n",
    "books.head()"
   ]
  },
  {
   "cell_type": "markdown",
   "metadata": {},
   "source": [
    "# Data analysis and processing"
   ]
  },
  {
   "cell_type": "code",
   "execution_count": 11,
   "metadata": {},
   "outputs": [
    {
     "data": {
      "text/html": [
       "<div>\n",
       "<style scoped>\n",
       "    .dataframe tbody tr th:only-of-type {\n",
       "        vertical-align: middle;\n",
       "    }\n",
       "\n",
       "    .dataframe tbody tr th {\n",
       "        vertical-align: top;\n",
       "    }\n",
       "\n",
       "    .dataframe thead th {\n",
       "        text-align: right;\n",
       "    }\n",
       "</style>\n",
       "<table border=\"1\" class=\"dataframe\">\n",
       "  <thead>\n",
       "    <tr style=\"text-align: right;\">\n",
       "      <th></th>\n",
       "      <th>text</th>\n",
       "      <th>label</th>\n",
       "    </tr>\n",
       "  </thead>\n",
       "  <tbody>\n",
       "    <tr>\n",
       "      <th>0</th>\n",
       "      <td>Classical Mythology</td>\n",
       "      <td>__label__0</td>\n",
       "    </tr>\n",
       "    <tr>\n",
       "      <th>1</th>\n",
       "      <td>Clara Callan</td>\n",
       "      <td>__label__0</td>\n",
       "    </tr>\n",
       "    <tr>\n",
       "      <th>2</th>\n",
       "      <td>Decision in Normandy</td>\n",
       "      <td>__label__0</td>\n",
       "    </tr>\n",
       "    <tr>\n",
       "      <th>3</th>\n",
       "      <td>Flu: The Story of the Great Influenza Pandemic...</td>\n",
       "      <td>__label__0</td>\n",
       "    </tr>\n",
       "    <tr>\n",
       "      <th>4</th>\n",
       "      <td>The Mummies of Urumchi</td>\n",
       "      <td>__label__0</td>\n",
       "    </tr>\n",
       "  </tbody>\n",
       "</table>\n",
       "</div>"
      ],
      "text/plain": [
       "                                                text       label\n",
       "0                                Classical Mythology  __label__0\n",
       "1                                       Clara Callan  __label__0\n",
       "2                               Decision in Normandy  __label__0\n",
       "3  Flu: The Story of the Great Influenza Pandemic...  __label__0\n",
       "4                             The Mummies of Urumchi  __label__0"
      ]
     },
     "execution_count": 11,
     "metadata": {},
     "output_type": "execute_result"
    }
   ],
   "source": [
    "num_classes = 4\n",
    "\n",
    "title = books[['Book-Title']].rename(columns={'Book-Title':'text'}).astype(str)\n",
    "title['label'] = ['__label__0' for i in range(title.shape[0])]\n",
    "\n",
    "author = books[['Book-Author']].rename(columns={'Book-Author':'text'}).astype(str)\n",
    "author['label'] = ['__label__1' for i in range(author.shape[0])]\n",
    "\n",
    "publisher = books[['Publisher']].rename(columns={'Publisher':'text'}).astype(str)\n",
    "publisher['label'] = ['__label__2' for i in range(publisher.shape[0])]\n",
    "\n",
    "genre = pd.DataFrame(genre, columns=['text'])\n",
    "# genre['label'] = ['__label__3' for i in range(genre.shape[0])]\n",
    "\n",
    "from textaugment import EDA\n",
    "t = EDA()\n",
    "\n",
    "\n",
    "\n",
    "genre = genre.loc[genre.index.repeat(int(books.shape[0]/genre.shape[0]))].reset_index(drop=True)\n",
    "\n",
    "df = pd.concat([title, author, publisher, genre], axis=0)\n",
    "# df['text'] = df['text'].apply(lambda x: ' '.join(simple_preprocess(x)))\n",
    "df.head()"
   ]
  },
  {
   "cell_type": "code",
   "execution_count": 12,
   "metadata": {},
   "outputs": [
    {
     "data": {
      "image/png": "[encoded data removed]",
      "text/plain": [
       "<Figure size 432x288 with 1 Axes>"
      ]
     },
     "metadata": {
      "needs_background": "light"
     },
     "output_type": "display_data"
    }
   ],
   "source": [
    "df['label'].value_counts().sort_values().plot(kind='barh')\n",
    "plt.show()"
   ]
  },
  {
   "cell_type": "code",
   "execution_count": 13,
   "metadata": {},
   "outputs": [],
   "source": [
    "train, test = train_test_split(df, test_size=0.25, stratify = df['label'], random_state=0)"
   ]
  },
  {
   "cell_type": "code",
   "execution_count": 14,
   "metadata": {},
   "outputs": [],
   "source": [
    "train.to_csv(os.path.join(data_dir,'train.txt'), index = False,sep = ' ', header = None, quoting = csv.QUOTE_NONE,\n",
    "             quotechar = \"\", escapechar = \" \")\n",
    "test.to_csv(os.path.join(data_dir,'test.txt'), index = False,sep = ' ', header = None, quoting = csv.QUOTE_NONE,\n",
    "             quotechar = \"\", escapechar = \" \")"
   ]
  },
  {
   "cell_type": "code",
   "execution_count": 15,
   "metadata": {},
   "outputs": [],
   "source": [
    "model = fasttext.train_supervised(input=os.path.join(data_dir,'train.txt'),\n",
    "                                  lr=0.01,              # learning rate [0.1]\n",
    "                                  dim=300,             # size of word vectors [100]\n",
    "                                  ws=5,                # size of the context window [5]\n",
    "                                  epoch=5,             # number of epochs [5]\n",
    "                                  minCount=1,          # minimal number of word occurences [1]\n",
    "                                  minCountLabel=1,     # minimal number of label occurences [1]\n",
    "                                  minn=0,              # min length of char ngram [0]\n",
    "                                  maxn=5,              # max length of char ngram [0]\n",
    "                                  neg=4,               # number of negatives sampled [5]\n",
    "                                  wordNgrams=4,        # max length of word ngram [1]\n",
    "                                  loss='softmax',      # loss function {ns, hs, softmax, ova} [softmax]\n",
    "                                  bucket=2000000,      # number of buckets [2000000]\n",
    "                                  lrUpdateRate=100,    # change the rate of updates for the learning rate [100]\n",
    "                                  t=0.0001,            # sampling threshold [0.0001]\n",
    "                                  verbose=2, # verbose [2]\n",
    "                                  )\n",
    "# model.save_model(\"model_fasttext.bin\")"
   ]
  },
  {
   "cell_type": "code",
   "execution_count": 16,
   "metadata": {},
   "outputs": [
    {
     "name": "stdout",
     "output_type": "stream",
     "text": [
      "0.9761553770177637\n"
     ]
    }
   ],
   "source": [
    "res = model.test(os.path.join(data_dir,'test.txt'))\n",
    "\n",
    "precision,recall = res[1], res[2]\n",
    "fscore = 2 * ((precision *recall) / (precision + recall))\n",
    "print(fscore)"
   ]
  },
  {
   "cell_type": "code",
   "execution_count": 17,
   "metadata": {},
   "outputs": [
    {
     "name": "stdout",
     "output_type": "stream",
     "text": [
      "0.9752966757573523\n"
     ]
    }
   ],
   "source": [
    "model.quantize(input=os.path.join(data_dir,'train.txt'), retrain=True)\n",
    "# model.save_model(\"model_fasttext.ftz\")\n",
    "res = model.test(os.path.join(data_dir,'test.txt'))\n",
    "\n",
    "precision,recall = res[1], res[2]\n",
    "fscore = 2 * ((precision *recall) / (precision + recall))\n",
    "print(fscore)"
   ]
  },
  {
   "cell_type": "code",
   "execution_count": 10,
   "metadata": {},
   "outputs": [],
   "source": [
    "# model.predict(\"Which baking dish is best to bake a banana bread ?\", k=-1, threshold=0.5)"
   ]
  }
 ],
 "metadata": {
  "kernelspec": {
   "display_name": "Python 3",
   "language": "python",
   "name": "python3"
  },
  "language_info": {
   "codemirror_mode": {
    "name": "ipython",
    "version": 3
   },
   "file_extension": ".py",
   "mimetype": "text/x-python",
   "name": "python",
   "nbconvert_exporter": "python",
   "pygments_lexer": "ipython3",
   "version": "3.7.4"
  }
 },
 "nbformat": 4,
 "nbformat_minor": 2
}
