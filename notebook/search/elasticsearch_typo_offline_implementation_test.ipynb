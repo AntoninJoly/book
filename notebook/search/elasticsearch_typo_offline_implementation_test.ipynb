{
 "cells": [
  {
   "cell_type": "code",
   "execution_count": 1,
   "metadata": {},
   "outputs": [],
   "source": [
    "import warnings\n",
    "warnings.filterwarnings('ignore')\n",
    "from elasticsearch import Elasticsearch, helpers\n",
    "import pandas as pd\n",
    "import os\n",
    "import sys\n",
    "import logging\n",
    "import numpy as np\n",
    "from tqdm import tqdm\n",
    "\n",
    "data_dir = '../../data/recommendation'"
   ]
  },
  {
   "cell_type": "markdown",
   "metadata": {},
   "source": [
    "# Loading data"
   ]
  },
  {
   "cell_type": "code",
   "execution_count": 2,
   "metadata": {},
   "outputs": [],
   "source": [
    "books = pd.read_csv(os.path.join(data_dir, 'Books.csv')).dropna()\n",
    "\n",
    "# users = pd.read_csv(os.path.join(data_dir, 'Users.csv'))\n",
    "user_ratings = pd.read_csv(os.path.join(data_dir, 'Ratings.csv'))"
   ]
  },
  {
   "cell_type": "code",
   "execution_count": 3,
   "metadata": {},
   "outputs": [
    {
     "name": "stdout",
     "output_type": "stream",
     "text": [
      "<class 'pandas.core.frame.DataFrame'>\n",
      "Int64Index: 271354 entries, 0 to 271359\n",
      "Data columns (total 8 columns):\n",
      " #   Column               Non-Null Count   Dtype \n",
      "---  ------               --------------   ----- \n",
      " 0   ISBN                 271354 non-null  object\n",
      " 1   Book-Title           271354 non-null  object\n",
      " 2   Book-Author          271354 non-null  object\n",
      " 3   Year-Of-Publication  271354 non-null  object\n",
      " 4   Publisher            271354 non-null  object\n",
      " 5   Image-URL-S          271354 non-null  object\n",
      " 6   Image-URL-M          271354 non-null  object\n",
      " 7   Image-URL-L          271354 non-null  object\n",
      "dtypes: object(8)\n",
      "memory usage: 18.6+ MB\n"
     ]
    },
    {
     "data": {
      "text/html": [
       "<div>\n",
       "<style scoped>\n",
       "    .dataframe tbody tr th:only-of-type {\n",
       "        vertical-align: middle;\n",
       "    }\n",
       "\n",
       "    .dataframe tbody tr th {\n",
       "        vertical-align: top;\n",
       "    }\n",
       "\n",
       "    .dataframe thead th {\n",
       "        text-align: right;\n",
       "    }\n",
       "</style>\n",
       "<table border=\"1\" class=\"dataframe\">\n",
       "  <thead>\n",
       "    <tr style=\"text-align: right;\">\n",
       "      <th></th>\n",
       "      <th>ISBN</th>\n",
       "      <th>Book-Title</th>\n",
       "      <th>Book-Author</th>\n",
       "      <th>Year-Of-Publication</th>\n",
       "      <th>Publisher</th>\n",
       "      <th>Image-URL-S</th>\n",
       "      <th>Image-URL-M</th>\n",
       "      <th>Image-URL-L</th>\n",
       "    </tr>\n",
       "  </thead>\n",
       "  <tbody>\n",
       "    <tr>\n",
       "      <th>0</th>\n",
       "      <td>0195153448</td>\n",
       "      <td>Classical Mythology</td>\n",
       "      <td>Mark P. O. Morford</td>\n",
       "      <td>2002</td>\n",
       "      <td>Oxford University Press</td>\n",
       "      <td>http://images.amazon.com/images/P/0195153448.0...</td>\n",
       "      <td>http://images.amazon.com/images/P/0195153448.0...</td>\n",
       "      <td>http://images.amazon.com/images/P/0195153448.0...</td>\n",
       "    </tr>\n",
       "    <tr>\n",
       "      <th>1</th>\n",
       "      <td>0002005018</td>\n",
       "      <td>Clara Callan</td>\n",
       "      <td>Richard Bruce Wright</td>\n",
       "      <td>2001</td>\n",
       "      <td>HarperFlamingo Canada</td>\n",
       "      <td>http://images.amazon.com/images/P/0002005018.0...</td>\n",
       "      <td>http://images.amazon.com/images/P/0002005018.0...</td>\n",
       "      <td>http://images.amazon.com/images/P/0002005018.0...</td>\n",
       "    </tr>\n",
       "    <tr>\n",
       "      <th>2</th>\n",
       "      <td>0060973129</td>\n",
       "      <td>Decision in Normandy</td>\n",
       "      <td>Carlo D'Este</td>\n",
       "      <td>1991</td>\n",
       "      <td>HarperPerennial</td>\n",
       "      <td>http://images.amazon.com/images/P/0060973129.0...</td>\n",
       "      <td>http://images.amazon.com/images/P/0060973129.0...</td>\n",
       "      <td>http://images.amazon.com/images/P/0060973129.0...</td>\n",
       "    </tr>\n",
       "    <tr>\n",
       "      <th>3</th>\n",
       "      <td>0374157065</td>\n",
       "      <td>Flu: The Story of the Great Influenza Pandemic...</td>\n",
       "      <td>Gina Bari Kolata</td>\n",
       "      <td>1999</td>\n",
       "      <td>Farrar Straus Giroux</td>\n",
       "      <td>http://images.amazon.com/images/P/0374157065.0...</td>\n",
       "      <td>http://images.amazon.com/images/P/0374157065.0...</td>\n",
       "      <td>http://images.amazon.com/images/P/0374157065.0...</td>\n",
       "    </tr>\n",
       "    <tr>\n",
       "      <th>4</th>\n",
       "      <td>0393045218</td>\n",
       "      <td>The Mummies of Urumchi</td>\n",
       "      <td>E. J. W. Barber</td>\n",
       "      <td>1999</td>\n",
       "      <td>W. W. Norton &amp;amp; Company</td>\n",
       "      <td>http://images.amazon.com/images/P/0393045218.0...</td>\n",
       "      <td>http://images.amazon.com/images/P/0393045218.0...</td>\n",
       "      <td>http://images.amazon.com/images/P/0393045218.0...</td>\n",
       "    </tr>\n",
       "  </tbody>\n",
       "</table>\n",
       "</div>"
      ],
      "text/plain": [
       "         ISBN                                         Book-Title  \\\n",
       "0  0195153448                                Classical Mythology   \n",
       "1  0002005018                                       Clara Callan   \n",
       "2  0060973129                               Decision in Normandy   \n",
       "3  0374157065  Flu: The Story of the Great Influenza Pandemic...   \n",
       "4  0393045218                             The Mummies of Urumchi   \n",
       "\n",
       "            Book-Author Year-Of-Publication                   Publisher  \\\n",
       "0    Mark P. O. Morford                2002     Oxford University Press   \n",
       "1  Richard Bruce Wright                2001       HarperFlamingo Canada   \n",
       "2          Carlo D'Este                1991             HarperPerennial   \n",
       "3      Gina Bari Kolata                1999        Farrar Straus Giroux   \n",
       "4       E. J. W. Barber                1999  W. W. Norton &amp; Company   \n",
       "\n",
       "                                         Image-URL-S  \\\n",
       "0  http://images.amazon.com/images/P/0195153448.0...   \n",
       "1  http://images.amazon.com/images/P/0002005018.0...   \n",
       "2  http://images.amazon.com/images/P/0060973129.0...   \n",
       "3  http://images.amazon.com/images/P/0374157065.0...   \n",
       "4  http://images.amazon.com/images/P/0393045218.0...   \n",
       "\n",
       "                                         Image-URL-M  \\\n",
       "0  http://images.amazon.com/images/P/0195153448.0...   \n",
       "1  http://images.amazon.com/images/P/0002005018.0...   \n",
       "2  http://images.amazon.com/images/P/0060973129.0...   \n",
       "3  http://images.amazon.com/images/P/0374157065.0...   \n",
       "4  http://images.amazon.com/images/P/0393045218.0...   \n",
       "\n",
       "                                         Image-URL-L  \n",
       "0  http://images.amazon.com/images/P/0195153448.0...  \n",
       "1  http://images.amazon.com/images/P/0002005018.0...  \n",
       "2  http://images.amazon.com/images/P/0060973129.0...  \n",
       "3  http://images.amazon.com/images/P/0374157065.0...  \n",
       "4  http://images.amazon.com/images/P/0393045218.0...  "
      ]
     },
     "execution_count": 3,
     "metadata": {},
     "output_type": "execute_result"
    }
   ],
   "source": [
    "books.info()\n",
    "books.head()"
   ]
  },
  {
   "cell_type": "code",
   "execution_count": 4,
   "metadata": {},
   "outputs": [
    {
     "name": "stdout",
     "output_type": "stream",
     "text": [
      "<class 'pandas.core.frame.DataFrame'>\n",
      "RangeIndex: 1149780 entries, 0 to 1149779\n",
      "Data columns (total 3 columns):\n",
      " #   Column       Non-Null Count    Dtype \n",
      "---  ------       --------------    ----- \n",
      " 0   User-ID      1149780 non-null  int64 \n",
      " 1   ISBN         1149780 non-null  object\n",
      " 2   Book-Rating  1149780 non-null  int64 \n",
      "dtypes: int64(2), object(1)\n",
      "memory usage: 26.3+ MB\n"
     ]
    },
    {
     "data": {
      "text/html": [
       "<div>\n",
       "<style scoped>\n",
       "    .dataframe tbody tr th:only-of-type {\n",
       "        vertical-align: middle;\n",
       "    }\n",
       "\n",
       "    .dataframe tbody tr th {\n",
       "        vertical-align: top;\n",
       "    }\n",
       "\n",
       "    .dataframe thead th {\n",
       "        text-align: right;\n",
       "    }\n",
       "</style>\n",
       "<table border=\"1\" class=\"dataframe\">\n",
       "  <thead>\n",
       "    <tr style=\"text-align: right;\">\n",
       "      <th></th>\n",
       "      <th>User-ID</th>\n",
       "      <th>ISBN</th>\n",
       "      <th>Book-Rating</th>\n",
       "    </tr>\n",
       "  </thead>\n",
       "  <tbody>\n",
       "    <tr>\n",
       "      <th>0</th>\n",
       "      <td>276725</td>\n",
       "      <td>034545104X</td>\n",
       "      <td>0</td>\n",
       "    </tr>\n",
       "    <tr>\n",
       "      <th>1</th>\n",
       "      <td>276726</td>\n",
       "      <td>0155061224</td>\n",
       "      <td>5</td>\n",
       "    </tr>\n",
       "    <tr>\n",
       "      <th>2</th>\n",
       "      <td>276727</td>\n",
       "      <td>0446520802</td>\n",
       "      <td>0</td>\n",
       "    </tr>\n",
       "    <tr>\n",
       "      <th>3</th>\n",
       "      <td>276729</td>\n",
       "      <td>052165615X</td>\n",
       "      <td>3</td>\n",
       "    </tr>\n",
       "    <tr>\n",
       "      <th>4</th>\n",
       "      <td>276729</td>\n",
       "      <td>0521795028</td>\n",
       "      <td>6</td>\n",
       "    </tr>\n",
       "  </tbody>\n",
       "</table>\n",
       "</div>"
      ],
      "text/plain": [
       "   User-ID        ISBN  Book-Rating\n",
       "0   276725  034545104X            0\n",
       "1   276726  0155061224            5\n",
       "2   276727  0446520802            0\n",
       "3   276729  052165615X            3\n",
       "4   276729  0521795028            6"
      ]
     },
     "execution_count": 4,
     "metadata": {},
     "output_type": "execute_result"
    }
   ],
   "source": [
    "user_ratings.info()\n",
    "user_ratings.head()"
   ]
  },
  {
   "cell_type": "code",
   "execution_count": 5,
   "metadata": {},
   "outputs": [],
   "source": [
    "def weighted_rating(v, R, C,m=5):\n",
    "    w_r =  (v/(v+m))*R + (m/(m+v))*C\n",
    "    return w_r"
   ]
  },
  {
   "cell_type": "code",
   "execution_count": 6,
   "metadata": {},
   "outputs": [
    {
     "name": "stdout",
     "output_type": "stream",
     "text": [
      "Wall time: 14.2 s\n"
     ]
    },
    {
     "data": {
      "text/html": [
       "<div>\n",
       "<style scoped>\n",
       "    .dataframe tbody tr th:only-of-type {\n",
       "        vertical-align: middle;\n",
       "    }\n",
       "\n",
       "    .dataframe tbody tr th {\n",
       "        vertical-align: top;\n",
       "    }\n",
       "\n",
       "    .dataframe thead th {\n",
       "        text-align: right;\n",
       "    }\n",
       "</style>\n",
       "<table border=\"1\" class=\"dataframe\">\n",
       "  <thead>\n",
       "    <tr style=\"text-align: right;\">\n",
       "      <th></th>\n",
       "      <th>Book-Rating</th>\n",
       "      <th>0</th>\n",
       "      <th>weighted_average</th>\n",
       "    </tr>\n",
       "    <tr>\n",
       "      <th>ISBN</th>\n",
       "      <th></th>\n",
       "      <th></th>\n",
       "      <th></th>\n",
       "    </tr>\n",
       "  </thead>\n",
       "  <tbody>\n",
       "    <tr>\n",
       "      <th>0330299891</th>\n",
       "      <td>3.0</td>\n",
       "      <td>2</td>\n",
       "      <td>2.904964</td>\n",
       "    </tr>\n",
       "    <tr>\n",
       "      <th>0375404120</th>\n",
       "      <td>1.5</td>\n",
       "      <td>2</td>\n",
       "      <td>2.476393</td>\n",
       "    </tr>\n",
       "    <tr>\n",
       "      <th>0586045007</th>\n",
       "      <td>0.0</td>\n",
       "      <td>1</td>\n",
       "      <td>2.389125</td>\n",
       "    </tr>\n",
       "    <tr>\n",
       "      <th>9022906116</th>\n",
       "      <td>3.5</td>\n",
       "      <td>2</td>\n",
       "      <td>3.047822</td>\n",
       "    </tr>\n",
       "    <tr>\n",
       "      <th>9032803328</th>\n",
       "      <td>0.0</td>\n",
       "      <td>1</td>\n",
       "      <td>2.389125</td>\n",
       "    </tr>\n",
       "  </tbody>\n",
       "</table>\n",
       "</div>"
      ],
      "text/plain": [
       "             Book-Rating  0  weighted_average\n",
       "ISBN                                         \n",
       " 0330299891          3.0  2          2.904964\n",
       " 0375404120          1.5  2          2.476393\n",
       " 0586045007          0.0  1          2.389125\n",
       " 9022906116          3.5  2          3.047822\n",
       " 9032803328          0.0  1          2.389125"
      ]
     },
     "execution_count": 6,
     "metadata": {},
     "output_type": "execute_result"
    }
   ],
   "source": [
    "%%time\n",
    "m=5\n",
    "R = user_ratings[['ISBN', 'Book-Rating']].groupby(['ISBN'], as_index=True).mean()\n",
    "C = user_ratings['Book-Rating'].mean()\n",
    "df = pd.concat([R, user_ratings.groupby(['ISBN'], as_index=True).size().to_frame()],axis=1)\n",
    "df['weighted_average'] = df.apply(lambda row: (row[0]/(row[0]+m))*row['Book-Rating'] + (m/(row[0]+m))*C, axis=1)\n",
    "df.head()\n",
    "# isbn = np.unique(user_ratings['ISBN'])\n",
    "# book_ratings = pd.DataFrame(columns=['ISBN','Book-Rating'])\n",
    "# book_ratings['ISBN'] = isbn\n",
    "# book_ratings['Book-Weighted-Rating'] = [weighted_rating(v.loc[i,0], R.loc[i,['Book-Rating']],C) for i in tqdm(isbn)]\n",
    "\n",
    "# book_ratings.info()\n",
    "# book_ratings.head()\n",
    "# sys.exit()"
   ]
  },
  {
   "cell_type": "markdown",
   "metadata": {},
   "source": [
    "# Data analysis and processing"
   ]
  },
  {
   "cell_type": "code",
   "execution_count": 7,
   "metadata": {},
   "outputs": [
    {
     "name": "stderr",
     "output_type": "stream",
     "text": [
      "271354it [00:57, 4731.33it/s]\n"
     ]
    },
    {
     "name": "stdout",
     "output_type": "stream",
     "text": [
      "Wall time: 59 s\n"
     ]
    }
   ],
   "source": [
    "%%time\n",
    "word = [i.split(' ') for i in books['Book-Title']]\n",
    "word = [{'_id': idx, 'name': w} for idx,w in enumerate([i for s in word for i in s])]\n",
    "title = [{'_id': idx,\n",
    "          'ID_book': row['ISBN'],\n",
    "          'name': row['Book-Title'], \n",
    "          'processed': row['Book-Title'].lower(),\n",
    "          'author': row['Book-Author'], \n",
    "          'year': row['Year-Of-Publication'],\n",
    "          'Publisher': row['Publisher'],\n",
    "          'url': row['Image-URL-M'],\n",
    "          'weighted_ratings':-1 if row['ISBN'] not in df.index else df.loc[row['ISBN'],'weighted_average']} for idx, row in tqdm(books.iterrows(), position=0)]"
   ]
  },
  {
   "cell_type": "markdown",
   "metadata": {},
   "source": [
    "# Search engine"
   ]
  },
  {
   "cell_type": "code",
   "execution_count": 34,
   "metadata": {},
   "outputs": [],
   "source": [
    "class Search():\n",
    "    def __init__(self, index_name):\n",
    "        super().__init__()\n",
    "        self.logger = logging.getLogger(__name__)\n",
    "        self.__es = Elasticsearch([{'scheme': 'http', 'host':'localhost','port':9200}], basic_auth=('admin', 'es_pw'))\n",
    "        \n",
    "        self.__index_name = index_name\n",
    "        if self.__es.indices.exists(index=self.__index_name):\n",
    "            self.logger.debug('Deleting existing index ' + self.__index_name)\n",
    "            self.__es.indices.delete(index=self.__index_name)\n",
    "        \n",
    "        self.__es.indices.create(index=self.__index_name)\n",
    "        self.__es.cluster.health(wait_for_status='yellow')\n",
    "    \n",
    "    def index(self, type_name, id_value, content):\n",
    "        self.logger.debug('index %s/%s : %s', type_name, id_value, content)\n",
    "        self.__es.index(index=self.__index_name, doc_type=type_name, id=id_value, body=content)\n",
    "        \n",
    "    def upload_content_bulk(self, data):\n",
    "        helpers.bulk(self.__es, data, index=self.__index_name,doc_type='_doc', request_timeout=200)\n",
    "    \n",
    "    def map(self, type_name, mapping):\n",
    "        self.logger.debug('map %s', type_name)\n",
    "        self.__es.indices.put_mapping(index=self.__index_name, doc_type=type_name, body={type_name: mapping})\n",
    "    \n",
    "    def search(self, type_name, query={'match_all': {}}):\n",
    "        self.logger.debug('search %s : %s', type_name, query)\n",
    "        return self.__es.search(index=self.__index_name, doc_type=type_name, body={'query': query})\n",
    "    \n",
    "    def search_book(self, type_name):\n",
    "#         query = {\"query\": {\"multi_match\": {\"query\": type_name,}}}\n",
    "        query = {\"query\":{\"fuzzy\" : { \"name\" : type_name}}}\n",
    "        self.logger.debug('search %s : %s', type_name, query)\n",
    "        return self.__es.search(index=self.__index_name, doc_type=type_name, body=query)\n",
    "    \n",
    "    def get(self, type_name, id_value):\n",
    "        self.logger.debug('get %s/%s', type_name, id_value)\n",
    "        document = self.__es.get(index=self.__index_name, doc_type=type_name, id=id_value)\n",
    "        self.logger.debug('got document ' + document)\n",
    "        return document\n",
    "    \n",
    "    def delete(self, type_name, id_value):\n",
    "        self.logger.debug('delete %s/%s', type_name, id_value)\n",
    "        self.__es.delete(index=self.__index_name, doc_type=type_name, id=id_value)\n",
    "\n",
    "    def optimize(self):\n",
    "        \"\"\" \n",
    "        forcemerge allows removal of deleted documents and reducing the number of segments\n",
    "        (documents are marked as tombstone [like cassandra] but not purged from the segment's \n",
    "        index for performance reasons)\n",
    "        \"\"\"\n",
    "        self.logger.debug('optimize')\n",
    "        self.__es.forcemerge(self.__index_name)\n",
    "\n",
    "    @property\n",
    "    def es(self):\n",
    "        return self.__es\n",
    "\n",
    "    def __eq__(self, other):\n",
    "        return self.__es == other.__es\n",
    "\n",
    "    def __str__(self):\n",
    "        return self.__es.__str__()\n",
    "\n",
    "    def __hash__(self):\n",
    "        return self.__es.__hash__()"
   ]
  },
  {
   "cell_type": "code",
   "execution_count": 23,
   "metadata": {},
   "outputs": [
    {
     "name": "stdout",
     "output_type": "stream",
     "text": [
      "Wall time: 1min 40s\n"
     ]
    }
   ],
   "source": [
    "%%time\n",
    "es_typo = Search(index_name='typo_check')\n",
    "es_typo.upload_content_bulk(word)"
   ]
  },
  {
   "cell_type": "code",
   "execution_count": 24,
   "metadata": {},
   "outputs": [
    {
     "data": {
      "text/plain": [
       "{'took': 304,\n",
       " 'timed_out': False,\n",
       " '_shards': {'total': 1, 'successful': 1, 'skipped': 0, 'failed': 0},\n",
       " 'hits': {'total': {'value': 0, 'relation': 'eq'},\n",
       "  'max_score': None,\n",
       "  'hits': []}}"
      ]
     },
     "execution_count": 24,
     "metadata": {},
     "output_type": "execute_result"
    }
   ],
   "source": [
    "es_typo.search('Clara')"
   ]
  },
  {
   "cell_type": "markdown",
   "metadata": {},
   "source": [
    "# Book title search"
   ]
  },
  {
   "cell_type": "code",
   "execution_count": 35,
   "metadata": {},
   "outputs": [
    {
     "name": "stdout",
     "output_type": "stream",
     "text": [
      "Wall time: 1min 2s\n"
     ]
    }
   ],
   "source": [
    "%%time\n",
    "es_book = Search(index_name='book_name')\n",
    "es_book.upload_content_bulk(title)"
   ]
  },
  {
   "cell_type": "code",
   "execution_count": 36,
   "metadata": {},
   "outputs": [
    {
     "data": {
      "text/plain": [
       "{'took': 1570,\n",
       " 'timed_out': False,\n",
       " '_shards': {'total': 1, 'successful': 1, 'skipped': 0, 'failed': 0},\n",
       " 'hits': {'total': {'value': 0, 'relation': 'eq'},\n",
       "  'max_score': None,\n",
       "  'hits': []}}"
      ]
     },
     "execution_count": 36,
     "metadata": {},
     "output_type": "execute_result"
    }
   ],
   "source": [
    "es_book.search_book('Clara Callan')"
   ]
  },
  {
   "cell_type": "code",
   "execution_count": null,
   "metadata": {},
   "outputs": [],
   "source": []
  }
 ],
 "metadata": {
  "kernelspec": {
   "display_name": "Python 3",
   "language": "python",
   "name": "python3"
  },
  "language_info": {
   "codemirror_mode": {
    "name": "ipython",
    "version": 3
   },
   "file_extension": ".py",
   "mimetype": "text/x-python",
   "name": "python",
   "nbconvert_exporter": "python",
   "pygments_lexer": "ipython3",
   "version": "3.7.4"
  }
 },
 "nbformat": 4,
 "nbformat_minor": 2
}
